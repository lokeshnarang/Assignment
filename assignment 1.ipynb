{
 "cells": [
  {
   "cell_type": "code",
   "execution_count": 2,
   "metadata": {},
   "outputs": [
    {
     "name": "stdout",
     "output_type": "stream",
     "text": [
      "value x 3\n",
      "value y 5\n",
      "value x 5\n",
      "value y 3\n"
     ]
    }
   ],
   "source": [
    "# 1 Write a program to swap two variables. Example: x = 3, y = 5 ==> y = 3 , x = 5. \n",
    "x=3\n",
    "y=5\n",
    "print(\"value x\",x)\n",
    "print(\"value y\",y)\n",
    "t=x\n",
    "x=y\n",
    "y=t\n",
    "print(\"value x\",x)\n",
    "print(\"value y\",y)"
   ]
  },
  {
   "cell_type": "code",
   "execution_count": 2,
   "metadata": {},
   "outputs": [
    {
     "name": "stdout",
     "output_type": "stream",
     "text": [
      "value  of x\n",
      "3\n",
      "value of y\n",
      "4\n",
      "value x 3\n",
      "value y 4\n",
      "value x 4\n",
      "value y 3\n"
     ]
    }
   ],
   "source": [
    "# 1   Write a program to swap two variables. Example: x = 3, y = 5 ==> y = 3 , x = 5. \n",
    "print(\"value  of x\")\n",
    "x=input()\n",
    "print(\"value of y\")\n",
    "y=input()\n",
    "print(\"value x\",x)\n",
    "print(\"value y\",y)\n",
    "t=x\n",
    "x=y\n",
    "y=t\n",
    "print(\"value x\",x)\n",
    "print(\"value y\",y)\n"
   ]
  },
  {
   "cell_type": "code",
   "execution_count": 4,
   "metadata": {},
   "outputs": [
    {
     "name": "stdout",
     "output_type": "stream",
     "text": [
      "enter the value 3\n",
      "odd 3\n"
     ]
    }
   ],
   "source": [
    "# 2   Write a program to check if a number is odd or even.\n",
    "num=int(input(\"enter the value \"))\n",
    "if(num%2==0):print('even',num)\n",
    "else:print(\"odd\",num)"
   ]
  },
  {
   "cell_type": "code",
   "execution_count": 5,
   "metadata": {},
   "outputs": [
    {
     "name": "stdout",
     "output_type": "stream",
     "text": [
      "1.4142135623730951\n"
     ]
    }
   ],
   "source": [
    "# 3 Write a program to find the square root of a number.\n",
    "import math\n",
    "print(math.sqrt(2))"
   ]
  },
  {
   "cell_type": "code",
   "execution_count": 6,
   "metadata": {},
   "outputs": [
    {
     "name": "stdout",
     "output_type": "stream",
     "text": [
      "enter the value 6\n",
      "1\n",
      "2\n",
      "3\n",
      "4\n",
      "5\n",
      "6\n",
      "6\n",
      "5\n",
      "4\n",
      "3\n",
      "2\n",
      "1\n"
     ]
    }
   ],
   "source": [
    "#4  Write a program to print all the natural numbers from 1 to n (user input). Then print the same in reverse order\n",
    "num=int(input(\"enter the value \"))\n",
    "i=1\n",
    "while(i<=num):\n",
    "    print(i)\n",
    "    i+=1\n",
    "i = num\n",
    "while(i>=1):\n",
    "    print(i)\n",
    "    i-=1"
   ]
  },
  {
   "cell_type": "code",
   "execution_count": 7,
   "metadata": {},
   "outputs": [
    {
     "name": "stdout",
     "output_type": "stream",
     "text": [
      "volume of sphere 904.3199999999999\n"
     ]
    }
   ],
   "source": [
    "# 5   Write a program which prints volume of a sphere, given the radius. (use pi = 3.14).\n",
    "pi=3.14\n",
    "r=6\n",
    "v=4/3*pi*r**3\n",
    "print(\"volume of sphere\",v)"
   ]
  },
  {
   "cell_type": "code",
   "execution_count": null,
   "metadata": {},
   "outputs": [],
   "source": [
    "# 6   Print all odd numbers and even numbers between 1 to 100.\n",
    "max=int(input(\"enter the value \"))\n",
    "num=1\n",
    "while(num<=max):\n",
    "    if(num % 2 == 0):print(num)\n",
    "    num=num+1"
   ]
  },
  {
   "cell_type": "code",
   "execution_count": 1,
   "metadata": {},
   "outputs": [
    {
     "name": "stdout",
     "output_type": "stream",
     "text": [
      "enter number1234\n",
      "the number of the digit in the number 4\n"
     ]
    }
   ],
   "source": [
    "# 8 Count the number of digits in a number. Example: 5342 has 4 digits. \n",
    "n=int(input(\"enter number\"))\n",
    "count=0\n",
    "while(n>0):\n",
    "    count=count+1\n",
    "    n=n//10\n",
    "print(\"the number of the digit in the number\",count)"
   ]
  },
  {
   "cell_type": "code",
   "execution_count": 2,
   "metadata": {},
   "outputs": [
    {
     "name": "stdout",
     "output_type": "stream",
     "text": [
      "enter aa number2\n",
      "2 is a primme number\n"
     ]
    }
   ],
   "source": [
    "# 9 # prime or not\n",
    "num=int(input(\"enter aa number\"))\n",
    "if num > 1:\n",
    "    for i in range(2,num):\n",
    "        if(num % i) == 0:\n",
    "\n",
    "            print(num,\"is not a primme number\")\n",
    "            print(i,\"times\",num//i,\"is\",num)\n",
    "            break\n",
    "    else:\n",
    "        print(num,\"is a primme number\") \n",
    "else:\n",
    "    print(num,\"is not a primme number\")"
   ]
  },
  {
   "cell_type": "code",
   "execution_count": 1,
   "metadata": {},
   "outputs": [
    {
     "name": "stdout",
     "output_type": "stream",
     "text": [
      "3\n",
      "5\n",
      "6\n",
      "9\n",
      "10\n",
      "12\n",
      "15\n",
      "60\n"
     ]
    }
   ],
   "source": [
    "# 10    Write a program that asks the user for a number n and prints the sum of the numbers 1 to n such that only multiples of three or five are considered in the sum, e.g. 3, 5, 6, 9, 10, 12, 15 for n=17. \n",
    "sum = 0\n",
    "n=17\n",
    "for i in range(1,n):\n",
    "    if(i%3==0) or (i%5==0):\n",
    "        print(i)\n",
    "        sum=sum+i\n",
    "print(sum)\n",
    "    "
   ]
  },
  {
   "cell_type": "code",
   "execution_count": 2,
   "metadata": {},
   "outputs": [
    {
     "name": "stdout",
     "output_type": "stream",
     "text": [
      "233168\n"
     ]
    }
   ],
   "source": [
    "# 12  Find the sum of all the multiples of 3 or 5 below 1000. .   \n",
    "sum = 0\n",
    "n=1000\n",
    "for i in range(1,n):\n",
    "    if(i%3==0) or (i%5==0):\n",
    "        #print(i)\n",
    "        sum=sum+i\n",
    "print(sum)\n",
    "    "
   ]
  },
  {
   "cell_type": "code",
   "execution_count": null,
   "metadata": {},
   "outputs": [],
   "source": []
  },
  {
   "cell_type": "code",
   "execution_count": 3,
   "metadata": {},
   "outputs": [
    {
     "name": "stdout",
     "output_type": "stream",
     "text": [
      "2002,\n",
      "2009,\n",
      "2016,\n",
      "2023,\n",
      "2030,\n",
      "2037,\n",
      "2044,\n",
      "2051,\n",
      "2058,\n",
      "2065,\n",
      "2072,\n",
      "2079,\n",
      "2086,\n",
      "2093,\n",
      "2107,\n",
      "2114,\n",
      "2121,\n",
      "2128,\n",
      "2135,\n",
      "2142,\n",
      "2149,\n",
      "2156,\n",
      "2163,\n",
      "2170,\n",
      "2177,\n",
      "2184,\n",
      "2191,\n",
      "2198,\n",
      "2205,\n",
      "2212,\n",
      "2219,\n",
      "2226,\n",
      "2233,\n",
      "2240,\n",
      "2247,\n",
      "2254,\n",
      "2261,\n",
      "2268,\n",
      "2282,\n",
      "2289,\n",
      "2296,\n",
      "2303,\n",
      "2310,\n",
      "2317,\n",
      "2324,\n",
      "2331,\n",
      "2338,\n",
      "2345,\n",
      "2352,\n",
      "2359,\n",
      "2366,\n",
      "2373,\n",
      "2380,\n",
      "2387,\n",
      "2394,\n",
      "2401,\n",
      "2408,\n",
      "2415,\n",
      "2422,\n",
      "2429,\n",
      "2436,\n",
      "2443,\n",
      "2457,\n",
      "2464,\n",
      "2471,\n",
      "2478,\n",
      "2485,\n",
      "2492,\n",
      "2499,\n",
      "2506,\n",
      "2513,\n",
      "2520,\n",
      "2527,\n",
      "2534,\n",
      "2541,\n",
      "2548,\n",
      "2555,\n",
      "2562,\n",
      "2569,\n",
      "2576,\n",
      "2583,\n",
      "2590,\n",
      "2597,\n",
      "2604,\n",
      "2611,\n",
      "2618,\n",
      "2632,\n",
      "2639,\n",
      "2646,\n",
      "2653,\n",
      "2660,\n",
      "2667,\n",
      "2674,\n",
      "2681,\n",
      "2688,\n",
      "2695,\n",
      "2702,\n",
      "2709,\n",
      "2716,\n",
      "2723,\n",
      "2730,\n",
      "2737,\n",
      "2744,\n",
      "2751,\n",
      "2758,\n",
      "2765,\n",
      "2772,\n",
      "2779,\n",
      "2786,\n",
      "2793,\n",
      "2807,\n",
      "2814,\n",
      "2821,\n",
      "2828,\n",
      "2835,\n",
      "2842,\n",
      "2849,\n",
      "2856,\n",
      "2863,\n",
      "2870,\n",
      "2877,\n",
      "2884,\n",
      "2891,\n",
      "2898,\n",
      "2905,\n",
      "2912,\n",
      "2919,\n",
      "2926,\n",
      "2933,\n",
      "2940,\n",
      "2947,\n",
      "2954,\n",
      "2961,\n",
      "2968,\n",
      "2982,\n",
      "2989,\n",
      "2996,\n",
      "3003,\n",
      "3010,\n",
      "3017,\n",
      "3024,\n",
      "3031,\n",
      "3038,\n",
      "3045,\n",
      "3052,\n",
      "3059,\n",
      "3066,\n",
      "3073,\n",
      "3080,\n",
      "3087,\n",
      "3094,\n",
      "3101,\n",
      "3108,\n",
      "3115,\n",
      "3122,\n",
      "3129,\n",
      "3136,\n",
      "3143,\n",
      "3157,\n",
      "3164,\n",
      "3171,\n",
      "3178,\n",
      "3185,\n",
      "3192,\n",
      "3199,\n"
     ]
    }
   ],
   "source": [
    " # 13    Write a program which will find all such numbers which are divisible by 7 but are not a multiple of 5, between 2000 and 3200 (both included). \n",
    "for x in range(2000,3200):\n",
    "    if (x%7)==0:\n",
    "        y=x/5.0\n",
    "        if(y%5)!=0:\n",
    "            print(str(x)+\",\")"
   ]
  },
  {
   "cell_type": "code",
   "execution_count": 4,
   "metadata": {},
   "outputs": [
    {
     "name": "stdout",
     "output_type": "stream",
     "text": [
      "30\n"
     ]
    }
   ],
   "source": [
    "# 14  Find the difference between the sum of the squares of the first one hundred natural numbers and the square of the sum.\n",
    "def squaresum(n):\n",
    "    sm = 0\n",
    "    for i in range(1,n+1):\n",
    "        sm = sm + (i*i)\n",
    "    return sm\n",
    "n= 4\n",
    "print(squaresum(n))"
   ]
  },
  {
   "cell_type": "code",
   "execution_count": 2,
   "metadata": {},
   "outputs": [
    {
     "name": "stdout",
     "output_type": "stream",
     "text": [
      "Enter Numbers : 1\n",
      "1\n",
      "Enter Numbers : 2\n",
      "2\n",
      "Enter Numbers : 3\n",
      "3\n",
      "Enter Numbers : N\n",
      "!!!Error!!!!\n",
      "TOTAL NUMBERS ENTERED 3 SUM 6 AVERAGE 2\n"
     ]
    }
   ],
   "source": [
    "# 15 Write a program which repeatedly reads numbers until the user enters \"stop\". Once \"stop\" is entered, print out the total, count, and average of the numbers. If the user enters anything other than a number then also stop.\n",
    "count=0\n",
    "sum_=0\n",
    "a=0\n",
    "while a!='stop':\n",
    "    try:\n",
    "        a=int(input('Enter Numbers : '))\n",
    "        print(a)\n",
    "        count+=1\n",
    "        sum_+=a\n",
    "    except:\n",
    "        print(\"!!!Error!!!!\")\n",
    "        print('TOTAL NUMBERS ENTERED {} SUM {} AVERAGE {}'.format(count,sum_,(sum_//count)))\n",
    "        break\n"
   ]
  },
  {
   "cell_type": "code",
   "execution_count": 5,
   "metadata": {},
   "outputs": [
    {
     "name": "stdout",
     "output_type": "stream",
     "text": [
      "enter aa number313\n",
      "313 is a primme number\n"
     ]
    }
   ],
   "source": [
    "# 16 Write a program that prints all prime numbers till n. (n is the user input)\n",
    "num=int(input(\"enter aa number\"))\n",
    "if num > 1:\n",
    "    for i in range(2,num):\n",
    "        if(num % i) == 0:\n",
    "\n",
    "            print(num,\"is not a primme number\")\n",
    "            print(i,\"times\",num//i,\"is\",num)\n",
    "            break\n",
    "    else:\n",
    "        print(num,\"is a primme number\") \n",
    "else:\n",
    "    print(num,\"is not a primme number\")"
   ]
  },
  {
   "cell_type": "code",
   "execution_count": 5,
   "metadata": {},
   "outputs": [
    {
     "name": "stdout",
     "output_type": "stream",
     "text": [
      "enter number7\n",
      "the factorial is  7 5040\n"
     ]
    }
   ],
   "source": [
    "# 17   Write a program which can compute the factorial of a given number. .   \n",
    "num=int(input(\"enter number\"))\n",
    "factorial = 1\n",
    "if num < 0:\n",
    "    print(\"factorial does not exit negative value\")\n",
    "elif num == 0:\n",
    "    print(\"factorial is =\")\n",
    "else:\n",
    "    for i in range(1,num+1):\n",
    "        factorial=factorial*i\n",
    "    print(\"the factorial is \",num,factorial)"
   ]
  },
  {
   "cell_type": "code",
   "execution_count": 6,
   "metadata": {},
   "outputs": [
    {
     "name": "stdout",
     "output_type": "stream",
     "text": [
      "21\n"
     ]
    }
   ],
   "source": [
    "# 18  Write a program for printing fibonacci series till n. .  \n",
    "def Fibonacci(n):\n",
    "    if n<0:\n",
    "        print(\"Incorrect input\")\n",
    "    elif n==1:\n",
    "        return 0\n",
    "    elif n==2:\n",
    "        return 1\n",
    "    else:\n",
    "        return Fibonacci(n-1)+Fibonacci(n-2)\n",
    "print(Fibonacci(9))"
   ]
  },
  {
   "cell_type": "code",
   "execution_count": 5,
   "metadata": {},
   "outputs": [
    {
     "name": "stdout",
     "output_type": "stream",
     "text": [
      "Enter the first num4\n",
      "Enter the second num12\n",
      "LCM is: 12\n"
     ]
    }
   ],
   "source": [
    "# 19  Write a program to find the LCM of two numbers. .  \n",
    "a=int(input(\"Enter the first num\"))\n",
    "b=int(input(\"Enter the second num\"))\n",
    "if(a>b):\n",
    "    min1=a\n",
    "else:\n",
    "    min1=b\n",
    "while(1):\n",
    "    if(min1%a==0 and min1%b==0):\n",
    "        print(\"LCM is:\",min1)\n",
    "        break\n",
    "    min1=min1+1"
   ]
  },
  {
   "cell_type": "code",
   "execution_count": 5,
   "metadata": {},
   "outputs": [
    {
     "name": "stdout",
     "output_type": "stream",
     "text": [
      "enter number320\n",
      "the factor of 320\n",
      "1\n",
      "2\n",
      "4\n",
      "5\n",
      "8\n",
      "10\n",
      "16\n",
      "20\n",
      "32\n",
      "40\n",
      "64\n",
      "80\n",
      "160\n",
      "320\n"
     ]
    }
   ],
   "source": [
    "# 20   Write a program to find factors of a number. .   \n",
    "def factor(x):\n",
    "    print(\"the factor of\",x)\n",
    "    for i in range(1,x+1):\n",
    "        if (x%i ==0):\n",
    "            print(i)\n",
    "num=int(input(\"enter number\"))\n",
    "factor(num)"
   ]
  },
  {
   "cell_type": "code",
   "execution_count": 4,
   "metadata": {},
   "outputs": [
    {
     "name": "stdout",
     "output_type": "stream",
     "text": [
      "*\n",
      "**\n",
      "***\n",
      "****\n",
      "*****\n"
     ]
    }
   ],
   "source": [
    "# 21\n",
    "num = 5\n",
    "for i in range(1,num+1):\n",
    "    for j in range(1,i+1):\n",
    "        print(\"*\",end =\"\")\n",
    "    print()\n",
    "    "
   ]
  },
  {
   "cell_type": "code",
   "execution_count": 7,
   "metadata": {},
   "outputs": [
    {
     "name": "stdout",
     "output_type": "stream",
     "text": [
      "1\n",
      "22\n",
      "333\n",
      "4444\n",
      "55555\n"
     ]
    }
   ],
   "source": [
    "num = 5\n",
    "for i in range(1,num+1):\n",
    "    for j in range(1,i+1):\n",
    "        print(i,end =\"\")\n",
    "    print()"
   ]
  },
  {
   "cell_type": "code",
   "execution_count": 2,
   "metadata": {},
   "outputs": [
    {
     "name": "stdout",
     "output_type": "stream",
     "text": [
      "enter number4\n",
      "1\n",
      "23\n",
      "456\n",
      "78910\n"
     ]
    }
   ],
   "source": [
    "num = int(input(\"enter number\"))\n",
    "n = 1\n",
    "for i in range(1,num+1):\n",
    "    for j in range(1,i+1):\n",
    "        print(n,end =\"\")\n",
    "        n=n+1\n",
    "    print()"
   ]
  },
  {
   "cell_type": "code",
   "execution_count": 3,
   "metadata": {},
   "outputs": [
    {
     "name": "stdout",
     "output_type": "stream",
     "text": [
      "A \n",
      "B C \n",
      "D E F \n",
      "G H I J \n"
     ]
    }
   ],
   "source": [
    "counter=65\n",
    "for i in range(1,5):\n",
    "    for j in range(1,i+1):\n",
    "        print(chr(counter),end=' ')\n",
    "        counter+=1\n",
    "    print()"
   ]
  },
  {
   "cell_type": "code",
   "execution_count": 5,
   "metadata": {},
   "outputs": [
    {
     "name": "stdout",
     "output_type": "stream",
     "text": [
      "enter number9\n",
      "9 + 99 + 999 + 9999 = 11106\n"
     ]
    }
   ],
   "source": [
    "# 22\n",
    "num = int(input(\"enter number\"))\n",
    "n1 = int(\"%s\" %num)\n",
    "n2 = int(\"%s%s\" %(num,num))\n",
    "n3 = int(\"%s%s%s\" %(num,num,num))\n",
    "n4 = int(\"%s%s%s%s\" %(num,num,num,num))\n",
    "print(n1,\"+\",n2,\"+\",n3,\"+\",n4,\"=\",n1+n2+n3+n4)"
   ]
  },
  {
   "cell_type": "code",
   "execution_count": 1,
   "metadata": {},
   "outputs": [
    {
     "name": "stdout",
     "output_type": "stream",
     "text": [
      "Enter A 5\n",
      "Enter B -4 \n",
      "Enter C -2\n",
      "Roots of equations are  : 1.1483314773547881 -0.34833147735478825\n"
     ]
    }
   ],
   "source": [
    "# 7 Write a program to compute roots of a quadratic equation when coefficients a, b and c are known (entered by the user).\n",
    "import math                  \n",
    "a=float(input('Enter A '))\n",
    "b=float(input('Enter B '))\n",
    "c=float(input('Enter C '))\n",
    "d=(b**2)-4*a*c               \n",
    "r1=((-b+math.sqrt(d))/(2*a)) \n",
    "r2=((-b-math.sqrt(d))/(2*a)) \n",
    "print(\"Roots of equations are  :\",r1,r2)"
   ]
  },
  {
   "cell_type": "code",
   "execution_count": 8,
   "metadata": {},
   "outputs": [],
   "source": [
    "# 11Write a program that asks the user for a number n and gives them the possibility to choose between computing the sum and computing the product of 1,…,n.\n"
   ]
  },
  {
   "cell_type": "code",
   "execution_count": 12,
   "metadata": {},
   "outputs": [
    {
     "name": "stdout",
     "output_type": "stream",
     "text": [
      "    * \n",
      "   * * \n",
      "  * * * \n",
      " * * * * \n"
     ]
    }
   ],
   "source": [
    "n=4\n",
    "for i in range(1,n+1):\n",
    "    print(\" \"*(n-i),'* '*i)"
   ]
  },
  {
   "cell_type": "code",
   "execution_count": 14,
   "metadata": {},
   "outputs": [
    {
     "name": "stdout",
     "output_type": "stream",
     "text": [
      "* * * * * * * * \n",
      "* * * * * * * \n",
      "* * * * * * \n",
      "* * * * * \n",
      "* * * * \n",
      "* * * \n",
      "* * \n",
      "* \n"
     ]
    }
   ],
   "source": [
    "num=8\n",
    "while num!=0:\n",
    "    print('* '*num)\n",
    "    num-=1"
   ]
  },
  {
   "cell_type": "code",
   "execution_count": null,
   "metadata": {},
   "outputs": [],
   "source": []
  }
 ],
 "metadata": {
  "kernelspec": {
   "display_name": "Python 3",
   "language": "python",
   "name": "python3"
  },
  "language_info": {
   "codemirror_mode": {
    "name": "ipython",
    "version": 3
   },
   "file_extension": ".py",
   "mimetype": "text/x-python",
   "name": "python",
   "nbconvert_exporter": "python",
   "pygments_lexer": "ipython3",
   "version": "3.7.3"
  }
 },
 "nbformat": 4,
 "nbformat_minor": 2
}
